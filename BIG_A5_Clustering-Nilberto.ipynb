{
  "nbformat": 4,
  "nbformat_minor": 0,
  "metadata": {
    "kernelspec": {
      "display_name": "Python 3",
      "language": "python",
      "name": "python3"
    },
    "language_info": {
      "codemirror_mode": {
        "name": "ipython",
        "version": 3
      },
      "file_extension": ".py",
      "mimetype": "text/x-python",
      "name": "python",
      "nbconvert_exporter": "python",
      "pygments_lexer": "ipython3",
      "version": "3.7.4"
    },
    "colab": {
      "name": "BIG_A5_Clustering.ipynb",
      "provenance": [],
      "collapsed_sections": [],
      "include_colab_link": true
    }
  },
  "cells": [
    {
      "cell_type": "markdown",
      "metadata": {
        "id": "view-in-github",
        "colab_type": "text"
      },
      "source": [
        "<a href=\"https://colab.research.google.com/github/NilbertoFreitas/Mineracao_de_Dados/blob/main/BIG_A5_Clustering-Nilberto.ipynb\" target=\"_parent\"><img src=\"https://colab.research.google.com/assets/colab-badge.svg\" alt=\"Open In Colab\"/></a>"
      ]
    },
    {
      "cell_type": "markdown",
      "metadata": {
        "id": "GXIqdLo14wj3"
      },
      "source": [
        "<head>\n",
        "  <meta name=\"author\" content=\"Rogério de Oliveira\">\n",
        "  <meta institution=\"author\" content=\"Universidade Presbiteriana Mackenzie\">\n",
        "</head>\n",
        "\n",
        "<img src=\"http://meusite.mackenzie.br/rogerio/mackenzie_logo/UPM.2_horizontal_vermelho.jpg\" width=300, align=\"right\">\n",
        "<!-- <h1 align=left><font size = 6, style=\"color:rgb(200,0,0)\"> optional title </font></h1> -->\n"
      ]
    },
    {
      "cell_type": "markdown",
      "metadata": {
        "id": "zQX8WQPeHTwc"
      },
      "source": [
        "# **Tarefa de Aprofundamento 5** \n",
        "## CASO: Clustering, Segmentando Países pela Força de Trabalho \n",
        "---\n",
        "<br>\n",
        "<br>\n",
        "\n",
        "\n",
        "\n"
      ]
    },
    {
      "cell_type": "markdown",
      "metadata": {
        "id": "Py6w383Wz2xs"
      },
      "source": [
        "A partir deste notebook você vai criar modelos de clusterização para os países com base em suas características de força de trabalho. \n",
        "\n",
        "Em seguida, com base nos seus resultados, responda o **questionário do Moodle**. "
      ]
    },
    {
      "cell_type": "markdown",
      "metadata": {
        "id": "nGZH-j05q8WZ"
      },
      "source": [
        "# Basic imports"
      ]
    },
    {
      "cell_type": "code",
      "metadata": {
        "id": "T6FFPMh10lvO"
      },
      "source": [
        "import numpy as np\n",
        "import pandas as pd\n",
        "import matplotlib.pyplot as plt\n",
        "%matplotlib inline\n",
        "import seaborn as sns\n",
        "from sklearn import metrics\n",
        "from sklearn.cluster import KMeans"
      ],
      "execution_count": 43,
      "outputs": []
    },
    {
      "cell_type": "markdown",
      "metadata": {
        "id": "wF7X-vnhW3OJ"
      },
      "source": [
        "# Exploração dos Dados\n",
        "\n"
      ]
    },
    {
      "cell_type": "markdown",
      "metadata": {
        "id": "pfByZcOTDFDL"
      },
      "source": [
        "Esta base de dados contém a percentagem da população empregada em diferentes indústrias em 26 países europeus em 1979. \n",
        "\n",
        "- Country - o nome do país (identificador)\n",
        "- Agr -% da força de trabalho empregada na agricultura\n",
        "- Min -% na mineração\n",
        "- Man -% na fabricação\n",
        "- PS -% nas indústrias de fornecimento de energia\n",
        "- Con - % em construção\n",
        "- SI -% nas indústrias de serviços\n",
        "- Fin -% em finanças\n",
        "- SPS -% em serviços sociais e pessoais\n",
        "- TC -% em transporte e comunicações\n",
        "\n",
        "Fonte: https://statsandr.com/ \n",
        "\n",
        "**Objetivo:** Segmentar os países em grupos para aplicação de diferentes políticas públicas empregando Clusterização."
      ]
    },
    {
      "cell_type": "code",
      "metadata": {
        "colab": {
          "base_uri": "https://localhost:8080/",
          "height": 206
        },
        "id": "P6IHT8bPSDS8",
        "outputId": "8229ec89-a060-4b05-edf7-aa1e765d6244"
      },
      "source": [
        "df = pd.read_csv('http://meusite.mackenzie.br/rogerio/data_load/Eurojobs.csv')\n",
        "df.head()"
      ],
      "execution_count": 44,
      "outputs": [
        {
          "output_type": "execute_result",
          "data": {
            "text/plain": [
              "      Country   Agr  Min   Man   PS  Con    SI  Fin   SPS   TC\n",
              "0     Belgium   3.3  0.9  27.6  0.9  8.2  19.1  6.2  26.6  7.2\n",
              "1     Denmark   9.2  0.1  21.8  0.6  8.3  14.6  6.5  32.2  7.1\n",
              "2      France  10.8  0.8  27.5  0.9  8.9  16.8  6.0  22.6  5.7\n",
              "3  W. Germany   6.7  1.3  35.8  0.9  7.3  14.4  5.0  22.3  6.1\n",
              "4     Ireland  23.2  1.0  20.7  1.3  7.5  16.8  2.8  20.8  6.1"
            ],
            "text/html": [
              "\n",
              "  <div id=\"df-3965e34a-4871-4ae3-ba8d-f6982774e18e\">\n",
              "    <div class=\"colab-df-container\">\n",
              "      <div>\n",
              "<style scoped>\n",
              "    .dataframe tbody tr th:only-of-type {\n",
              "        vertical-align: middle;\n",
              "    }\n",
              "\n",
              "    .dataframe tbody tr th {\n",
              "        vertical-align: top;\n",
              "    }\n",
              "\n",
              "    .dataframe thead th {\n",
              "        text-align: right;\n",
              "    }\n",
              "</style>\n",
              "<table border=\"1\" class=\"dataframe\">\n",
              "  <thead>\n",
              "    <tr style=\"text-align: right;\">\n",
              "      <th></th>\n",
              "      <th>Country</th>\n",
              "      <th>Agr</th>\n",
              "      <th>Min</th>\n",
              "      <th>Man</th>\n",
              "      <th>PS</th>\n",
              "      <th>Con</th>\n",
              "      <th>SI</th>\n",
              "      <th>Fin</th>\n",
              "      <th>SPS</th>\n",
              "      <th>TC</th>\n",
              "    </tr>\n",
              "  </thead>\n",
              "  <tbody>\n",
              "    <tr>\n",
              "      <th>0</th>\n",
              "      <td>Belgium</td>\n",
              "      <td>3.3</td>\n",
              "      <td>0.9</td>\n",
              "      <td>27.6</td>\n",
              "      <td>0.9</td>\n",
              "      <td>8.2</td>\n",
              "      <td>19.1</td>\n",
              "      <td>6.2</td>\n",
              "      <td>26.6</td>\n",
              "      <td>7.2</td>\n",
              "    </tr>\n",
              "    <tr>\n",
              "      <th>1</th>\n",
              "      <td>Denmark</td>\n",
              "      <td>9.2</td>\n",
              "      <td>0.1</td>\n",
              "      <td>21.8</td>\n",
              "      <td>0.6</td>\n",
              "      <td>8.3</td>\n",
              "      <td>14.6</td>\n",
              "      <td>6.5</td>\n",
              "      <td>32.2</td>\n",
              "      <td>7.1</td>\n",
              "    </tr>\n",
              "    <tr>\n",
              "      <th>2</th>\n",
              "      <td>France</td>\n",
              "      <td>10.8</td>\n",
              "      <td>0.8</td>\n",
              "      <td>27.5</td>\n",
              "      <td>0.9</td>\n",
              "      <td>8.9</td>\n",
              "      <td>16.8</td>\n",
              "      <td>6.0</td>\n",
              "      <td>22.6</td>\n",
              "      <td>5.7</td>\n",
              "    </tr>\n",
              "    <tr>\n",
              "      <th>3</th>\n",
              "      <td>W. Germany</td>\n",
              "      <td>6.7</td>\n",
              "      <td>1.3</td>\n",
              "      <td>35.8</td>\n",
              "      <td>0.9</td>\n",
              "      <td>7.3</td>\n",
              "      <td>14.4</td>\n",
              "      <td>5.0</td>\n",
              "      <td>22.3</td>\n",
              "      <td>6.1</td>\n",
              "    </tr>\n",
              "    <tr>\n",
              "      <th>4</th>\n",
              "      <td>Ireland</td>\n",
              "      <td>23.2</td>\n",
              "      <td>1.0</td>\n",
              "      <td>20.7</td>\n",
              "      <td>1.3</td>\n",
              "      <td>7.5</td>\n",
              "      <td>16.8</td>\n",
              "      <td>2.8</td>\n",
              "      <td>20.8</td>\n",
              "      <td>6.1</td>\n",
              "    </tr>\n",
              "  </tbody>\n",
              "</table>\n",
              "</div>\n",
              "      <button class=\"colab-df-convert\" onclick=\"convertToInteractive('df-3965e34a-4871-4ae3-ba8d-f6982774e18e')\"\n",
              "              title=\"Convert this dataframe to an interactive table.\"\n",
              "              style=\"display:none;\">\n",
              "        \n",
              "  <svg xmlns=\"http://www.w3.org/2000/svg\" height=\"24px\"viewBox=\"0 0 24 24\"\n",
              "       width=\"24px\">\n",
              "    <path d=\"M0 0h24v24H0V0z\" fill=\"none\"/>\n",
              "    <path d=\"M18.56 5.44l.94 2.06.94-2.06 2.06-.94-2.06-.94-.94-2.06-.94 2.06-2.06.94zm-11 1L8.5 8.5l.94-2.06 2.06-.94-2.06-.94L8.5 2.5l-.94 2.06-2.06.94zm10 10l.94 2.06.94-2.06 2.06-.94-2.06-.94-.94-2.06-.94 2.06-2.06.94z\"/><path d=\"M17.41 7.96l-1.37-1.37c-.4-.4-.92-.59-1.43-.59-.52 0-1.04.2-1.43.59L10.3 9.45l-7.72 7.72c-.78.78-.78 2.05 0 2.83L4 21.41c.39.39.9.59 1.41.59.51 0 1.02-.2 1.41-.59l7.78-7.78 2.81-2.81c.8-.78.8-2.07 0-2.86zM5.41 20L4 18.59l7.72-7.72 1.47 1.35L5.41 20z\"/>\n",
              "  </svg>\n",
              "      </button>\n",
              "      \n",
              "  <style>\n",
              "    .colab-df-container {\n",
              "      display:flex;\n",
              "      flex-wrap:wrap;\n",
              "      gap: 12px;\n",
              "    }\n",
              "\n",
              "    .colab-df-convert {\n",
              "      background-color: #E8F0FE;\n",
              "      border: none;\n",
              "      border-radius: 50%;\n",
              "      cursor: pointer;\n",
              "      display: none;\n",
              "      fill: #1967D2;\n",
              "      height: 32px;\n",
              "      padding: 0 0 0 0;\n",
              "      width: 32px;\n",
              "    }\n",
              "\n",
              "    .colab-df-convert:hover {\n",
              "      background-color: #E2EBFA;\n",
              "      box-shadow: 0px 1px 2px rgba(60, 64, 67, 0.3), 0px 1px 3px 1px rgba(60, 64, 67, 0.15);\n",
              "      fill: #174EA6;\n",
              "    }\n",
              "\n",
              "    [theme=dark] .colab-df-convert {\n",
              "      background-color: #3B4455;\n",
              "      fill: #D2E3FC;\n",
              "    }\n",
              "\n",
              "    [theme=dark] .colab-df-convert:hover {\n",
              "      background-color: #434B5C;\n",
              "      box-shadow: 0px 1px 3px 1px rgba(0, 0, 0, 0.15);\n",
              "      filter: drop-shadow(0px 1px 2px rgba(0, 0, 0, 0.3));\n",
              "      fill: #FFFFFF;\n",
              "    }\n",
              "  </style>\n",
              "\n",
              "      <script>\n",
              "        const buttonEl =\n",
              "          document.querySelector('#df-3965e34a-4871-4ae3-ba8d-f6982774e18e button.colab-df-convert');\n",
              "        buttonEl.style.display =\n",
              "          google.colab.kernel.accessAllowed ? 'block' : 'none';\n",
              "\n",
              "        async function convertToInteractive(key) {\n",
              "          const element = document.querySelector('#df-3965e34a-4871-4ae3-ba8d-f6982774e18e');\n",
              "          const dataTable =\n",
              "            await google.colab.kernel.invokeFunction('convertToInteractive',\n",
              "                                                     [key], {});\n",
              "          if (!dataTable) return;\n",
              "\n",
              "          const docLinkHtml = 'Like what you see? Visit the ' +\n",
              "            '<a target=\"_blank\" href=https://colab.research.google.com/notebooks/data_table.ipynb>data table notebook</a>'\n",
              "            + ' to learn more about interactive tables.';\n",
              "          element.innerHTML = '';\n",
              "          dataTable['output_type'] = 'display_data';\n",
              "          await google.colab.output.renderOutput(dataTable, element);\n",
              "          const docLink = document.createElement('div');\n",
              "          docLink.innerHTML = docLinkHtml;\n",
              "          element.appendChild(docLink);\n",
              "        }\n",
              "      </script>\n",
              "    </div>\n",
              "  </div>\n",
              "  "
            ]
          },
          "metadata": {},
          "execution_count": 44
        }
      ]
    },
    {
      "cell_type": "markdown",
      "metadata": {
        "id": "1f8-sl3PYF3i"
      },
      "source": [
        "## Inspecione os dados"
      ]
    },
    {
      "cell_type": "code",
      "metadata": {
        "id": "b9pggocxSZUD",
        "outputId": "0cf2e25b-16b8-48ec-85c5-444ee0ad8a18",
        "colab": {
          "base_uri": "https://localhost:8080/",
          "height": 503
        }
      },
      "source": [
        "print(df.isnull().sum())\n",
        "df.describe()"
      ],
      "execution_count": 45,
      "outputs": [
        {
          "output_type": "stream",
          "name": "stdout",
          "text": [
            "Country    0\n",
            "Agr        0\n",
            "Min        0\n",
            "Man        0\n",
            "PS         0\n",
            "Con        0\n",
            "SI         0\n",
            "Fin        0\n",
            "SPS        0\n",
            "TC         0\n",
            "dtype: int64\n"
          ]
        },
        {
          "output_type": "execute_result",
          "data": {
            "text/plain": [
              "             Agr        Min        Man         PS        Con         SI  \\\n",
              "count  26.000000  26.000000  26.000000  26.000000  26.000000  26.000000   \n",
              "mean   19.130769   1.253846  27.007692   0.907692   8.165385  12.957692   \n",
              "std    15.546569   0.970044   7.007763   0.376216   1.645586   4.575253   \n",
              "min     2.700000   0.100000   7.900000   0.100000   2.800000   5.200000   \n",
              "25%     7.700000   0.525000  23.000000   0.600000   7.525000   9.250000   \n",
              "50%    14.450000   0.950000  27.550000   0.850000   8.350000  14.400000   \n",
              "75%    23.675000   1.800000  30.200000   1.175000   8.975000  16.875000   \n",
              "max    66.800000   3.100000  41.200000   1.900000  11.500000  19.100000   \n",
              "\n",
              "             Fin        SPS         TC  \n",
              "count  26.000000  26.000000  26.000000  \n",
              "mean    4.000000  20.023077   6.546154  \n",
              "std     2.806564   6.829542   1.391469  \n",
              "min     0.500000   5.300000   3.200000  \n",
              "25%     1.225000  16.250000   5.700000  \n",
              "50%     4.650000  19.650000   6.700000  \n",
              "75%     5.925000  24.125000   7.075000  \n",
              "max    11.300000  32.400000   9.400000  "
            ],
            "text/html": [
              "\n",
              "  <div id=\"df-9af77d30-0f60-4604-be88-4dffa4aa2ac4\">\n",
              "    <div class=\"colab-df-container\">\n",
              "      <div>\n",
              "<style scoped>\n",
              "    .dataframe tbody tr th:only-of-type {\n",
              "        vertical-align: middle;\n",
              "    }\n",
              "\n",
              "    .dataframe tbody tr th {\n",
              "        vertical-align: top;\n",
              "    }\n",
              "\n",
              "    .dataframe thead th {\n",
              "        text-align: right;\n",
              "    }\n",
              "</style>\n",
              "<table border=\"1\" class=\"dataframe\">\n",
              "  <thead>\n",
              "    <tr style=\"text-align: right;\">\n",
              "      <th></th>\n",
              "      <th>Agr</th>\n",
              "      <th>Min</th>\n",
              "      <th>Man</th>\n",
              "      <th>PS</th>\n",
              "      <th>Con</th>\n",
              "      <th>SI</th>\n",
              "      <th>Fin</th>\n",
              "      <th>SPS</th>\n",
              "      <th>TC</th>\n",
              "    </tr>\n",
              "  </thead>\n",
              "  <tbody>\n",
              "    <tr>\n",
              "      <th>count</th>\n",
              "      <td>26.000000</td>\n",
              "      <td>26.000000</td>\n",
              "      <td>26.000000</td>\n",
              "      <td>26.000000</td>\n",
              "      <td>26.000000</td>\n",
              "      <td>26.000000</td>\n",
              "      <td>26.000000</td>\n",
              "      <td>26.000000</td>\n",
              "      <td>26.000000</td>\n",
              "    </tr>\n",
              "    <tr>\n",
              "      <th>mean</th>\n",
              "      <td>19.130769</td>\n",
              "      <td>1.253846</td>\n",
              "      <td>27.007692</td>\n",
              "      <td>0.907692</td>\n",
              "      <td>8.165385</td>\n",
              "      <td>12.957692</td>\n",
              "      <td>4.000000</td>\n",
              "      <td>20.023077</td>\n",
              "      <td>6.546154</td>\n",
              "    </tr>\n",
              "    <tr>\n",
              "      <th>std</th>\n",
              "      <td>15.546569</td>\n",
              "      <td>0.970044</td>\n",
              "      <td>7.007763</td>\n",
              "      <td>0.376216</td>\n",
              "      <td>1.645586</td>\n",
              "      <td>4.575253</td>\n",
              "      <td>2.806564</td>\n",
              "      <td>6.829542</td>\n",
              "      <td>1.391469</td>\n",
              "    </tr>\n",
              "    <tr>\n",
              "      <th>min</th>\n",
              "      <td>2.700000</td>\n",
              "      <td>0.100000</td>\n",
              "      <td>7.900000</td>\n",
              "      <td>0.100000</td>\n",
              "      <td>2.800000</td>\n",
              "      <td>5.200000</td>\n",
              "      <td>0.500000</td>\n",
              "      <td>5.300000</td>\n",
              "      <td>3.200000</td>\n",
              "    </tr>\n",
              "    <tr>\n",
              "      <th>25%</th>\n",
              "      <td>7.700000</td>\n",
              "      <td>0.525000</td>\n",
              "      <td>23.000000</td>\n",
              "      <td>0.600000</td>\n",
              "      <td>7.525000</td>\n",
              "      <td>9.250000</td>\n",
              "      <td>1.225000</td>\n",
              "      <td>16.250000</td>\n",
              "      <td>5.700000</td>\n",
              "    </tr>\n",
              "    <tr>\n",
              "      <th>50%</th>\n",
              "      <td>14.450000</td>\n",
              "      <td>0.950000</td>\n",
              "      <td>27.550000</td>\n",
              "      <td>0.850000</td>\n",
              "      <td>8.350000</td>\n",
              "      <td>14.400000</td>\n",
              "      <td>4.650000</td>\n",
              "      <td>19.650000</td>\n",
              "      <td>6.700000</td>\n",
              "    </tr>\n",
              "    <tr>\n",
              "      <th>75%</th>\n",
              "      <td>23.675000</td>\n",
              "      <td>1.800000</td>\n",
              "      <td>30.200000</td>\n",
              "      <td>1.175000</td>\n",
              "      <td>8.975000</td>\n",
              "      <td>16.875000</td>\n",
              "      <td>5.925000</td>\n",
              "      <td>24.125000</td>\n",
              "      <td>7.075000</td>\n",
              "    </tr>\n",
              "    <tr>\n",
              "      <th>max</th>\n",
              "      <td>66.800000</td>\n",
              "      <td>3.100000</td>\n",
              "      <td>41.200000</td>\n",
              "      <td>1.900000</td>\n",
              "      <td>11.500000</td>\n",
              "      <td>19.100000</td>\n",
              "      <td>11.300000</td>\n",
              "      <td>32.400000</td>\n",
              "      <td>9.400000</td>\n",
              "    </tr>\n",
              "  </tbody>\n",
              "</table>\n",
              "</div>\n",
              "      <button class=\"colab-df-convert\" onclick=\"convertToInteractive('df-9af77d30-0f60-4604-be88-4dffa4aa2ac4')\"\n",
              "              title=\"Convert this dataframe to an interactive table.\"\n",
              "              style=\"display:none;\">\n",
              "        \n",
              "  <svg xmlns=\"http://www.w3.org/2000/svg\" height=\"24px\"viewBox=\"0 0 24 24\"\n",
              "       width=\"24px\">\n",
              "    <path d=\"M0 0h24v24H0V0z\" fill=\"none\"/>\n",
              "    <path d=\"M18.56 5.44l.94 2.06.94-2.06 2.06-.94-2.06-.94-.94-2.06-.94 2.06-2.06.94zm-11 1L8.5 8.5l.94-2.06 2.06-.94-2.06-.94L8.5 2.5l-.94 2.06-2.06.94zm10 10l.94 2.06.94-2.06 2.06-.94-2.06-.94-.94-2.06-.94 2.06-2.06.94z\"/><path d=\"M17.41 7.96l-1.37-1.37c-.4-.4-.92-.59-1.43-.59-.52 0-1.04.2-1.43.59L10.3 9.45l-7.72 7.72c-.78.78-.78 2.05 0 2.83L4 21.41c.39.39.9.59 1.41.59.51 0 1.02-.2 1.41-.59l7.78-7.78 2.81-2.81c.8-.78.8-2.07 0-2.86zM5.41 20L4 18.59l7.72-7.72 1.47 1.35L5.41 20z\"/>\n",
              "  </svg>\n",
              "      </button>\n",
              "      \n",
              "  <style>\n",
              "    .colab-df-container {\n",
              "      display:flex;\n",
              "      flex-wrap:wrap;\n",
              "      gap: 12px;\n",
              "    }\n",
              "\n",
              "    .colab-df-convert {\n",
              "      background-color: #E8F0FE;\n",
              "      border: none;\n",
              "      border-radius: 50%;\n",
              "      cursor: pointer;\n",
              "      display: none;\n",
              "      fill: #1967D2;\n",
              "      height: 32px;\n",
              "      padding: 0 0 0 0;\n",
              "      width: 32px;\n",
              "    }\n",
              "\n",
              "    .colab-df-convert:hover {\n",
              "      background-color: #E2EBFA;\n",
              "      box-shadow: 0px 1px 2px rgba(60, 64, 67, 0.3), 0px 1px 3px 1px rgba(60, 64, 67, 0.15);\n",
              "      fill: #174EA6;\n",
              "    }\n",
              "\n",
              "    [theme=dark] .colab-df-convert {\n",
              "      background-color: #3B4455;\n",
              "      fill: #D2E3FC;\n",
              "    }\n",
              "\n",
              "    [theme=dark] .colab-df-convert:hover {\n",
              "      background-color: #434B5C;\n",
              "      box-shadow: 0px 1px 3px 1px rgba(0, 0, 0, 0.15);\n",
              "      filter: drop-shadow(0px 1px 2px rgba(0, 0, 0, 0.3));\n",
              "      fill: #FFFFFF;\n",
              "    }\n",
              "  </style>\n",
              "\n",
              "      <script>\n",
              "        const buttonEl =\n",
              "          document.querySelector('#df-9af77d30-0f60-4604-be88-4dffa4aa2ac4 button.colab-df-convert');\n",
              "        buttonEl.style.display =\n",
              "          google.colab.kernel.accessAllowed ? 'block' : 'none';\n",
              "\n",
              "        async function convertToInteractive(key) {\n",
              "          const element = document.querySelector('#df-9af77d30-0f60-4604-be88-4dffa4aa2ac4');\n",
              "          const dataTable =\n",
              "            await google.colab.kernel.invokeFunction('convertToInteractive',\n",
              "                                                     [key], {});\n",
              "          if (!dataTable) return;\n",
              "\n",
              "          const docLinkHtml = 'Like what you see? Visit the ' +\n",
              "            '<a target=\"_blank\" href=https://colab.research.google.com/notebooks/data_table.ipynb>data table notebook</a>'\n",
              "            + ' to learn more about interactive tables.';\n",
              "          element.innerHTML = '';\n",
              "          dataTable['output_type'] = 'display_data';\n",
              "          await google.colab.output.renderOutput(dataTable, element);\n",
              "          const docLink = document.createElement('div');\n",
              "          docLink.innerHTML = docLinkHtml;\n",
              "          element.appendChild(docLink);\n",
              "        }\n",
              "      </script>\n",
              "    </div>\n",
              "  </div>\n",
              "  "
            ]
          },
          "metadata": {},
          "execution_count": 45
        }
      ]
    },
    {
      "cell_type": "markdown",
      "metadata": {
        "id": "qJUllMOaXMHp"
      },
      "source": [
        "## Preparação dos dados\n",
        "\n",
        "Normalize os dados o `StandardScaler` (melhor) ou a função `scale`.\n",
        "\n",
        "$$ z_i = \\frac{x_i - \\bar{x}}{\\sigma(x)}$$\n",
        "\n",
        "E não esqueça de excluir dados não úteis ao treinamento. Depois de normalizar os dados os valores devem apresentar média próxima de 0 e desvio padrão próximo de 1."
      ]
    },
    {
      "cell_type": "code",
      "metadata": {
        "id": "Vl2mpSUUTgwS",
        "outputId": "eb035814-91e9-44e7-9474-aedafe7c8cde",
        "colab": {
          "base_uri": "https://localhost:8080/"
        }
      },
      "source": [
        "from sklearn.preprocessing import StandardScaler\n",
        "\n",
        "X = df.drop(columns=['Country'])\n",
        "scaler = StandardScaler()\n",
        "scaler.fit(X)\n",
        "X = scaler.transform(X)\n",
        "\n",
        "X[0:10]"
      ],
      "execution_count": 46,
      "outputs": [
        {
          "output_type": "execute_result",
          "data": {
            "text/plain": [
              "array([[-1.03844649, -0.37199739,  0.08619551, -0.02085144,  0.02145187,\n",
              "         1.3690936 ,  0.79940055,  0.9820822 ,  0.47920226],\n",
              "       [-0.65142586, -1.21303495, -0.75784885, -0.83405766,  0.08342395,\n",
              "         0.36606322,  0.90840971,  1.81828787,  0.40591251],\n",
              "       [-0.54647111, -0.47712708,  0.07164302, -0.02085144,  0.4552564 ,\n",
              "         0.85643363,  0.72672777,  0.38479244, -0.62014411],\n",
              "       [-0.81541765,  0.0485214 ,  1.27949961, -0.02085144, -0.53629681,\n",
              "         0.32148409,  0.36336389,  0.33999571, -0.32698507],\n",
              "       [ 0.26692818, -0.26686769, -0.91792623,  1.06342351, -0.41235266,\n",
              "         0.85643363, -0.43603666,  0.11601205, -0.32698507],\n",
              "       [-0.21192785, -0.68738647,  0.08619551, -1.10512639,  1.13694923,\n",
              "         1.14619796, -0.87207332,  0.01148634, -0.62014411],\n",
              "       [-0.74982093,  1.94085592,  0.55187516, -0.29192018,  0.64117263,\n",
              "         1.23535621,  0.21801833, -0.12290385, -0.25369532],\n",
              "       [-0.84165634, -1.21303495, -0.65598143,  0.2502173 ,  1.07497715,\n",
              "         1.12390839,  1.01741888,  1.26579484,  0.18604323],\n",
              "       [-1.07780452,  0.15365109,  0.46456023,  1.33449225, -0.78418511,\n",
              "         0.87872319,  0.6177186 ,  1.23593035, -0.1071158 ],\n",
              "       [-0.42183735, -0.16173799,  0.46456023,  1.33449225,  0.51722848,\n",
              "         0.85643363,  0.3270275 , -0.48127771,  0.33262275]])"
            ]
          },
          "metadata": {},
          "execution_count": 46
        }
      ]
    },
    {
      "cell_type": "markdown",
      "metadata": {
        "id": "379oIRQiYY2C"
      },
      "source": [
        "## Número de Clusters\n",
        "\n",
        "(Moodle) **Q1**. Qual o melhor número de clusters pela *regra do cotovelo* e pelo valor médio de silhueta aplicanaod o `kmedias`? (verifique de 2 a 10 clusters)\n",
        "\n",
        "> Empregue `random_state= 1234` no `KMeans`. Não empregue outros parâmetros não solicitados.   \n",
        "\n"
      ]
    },
    {
      "cell_type": "code",
      "metadata": {
        "id": "h07ThSkD843k",
        "outputId": "2fbde82b-450b-435f-fb4a-40ac7dd71437",
        "colab": {
          "base_uri": "https://localhost:8080/",
          "height": 314
        }
      },
      "source": [
        "def inercia(X=X, kmin=2, kmax=10):\n",
        "  inertia = []\n",
        "  for n in range(kmin , kmax+1):\n",
        "      clf = KMeans(n_clusters = n , random_state= 1234)\n",
        "      clf.fit(X)\n",
        "      inertia.append(clf.inertia_)\n",
        "      \n",
        "  plt.figure(figsize = (8, 4))\n",
        "  plt.plot(np.arange(2 , 11) , inertia , 'ko')\n",
        "  plt.plot(np.arange(2 , 11) , inertia , '-' , alpha = 0.5)\n",
        "  plt.xlabel('Number of Clusters') , plt.ylabel('Inertia')\n",
        "  plt.title('Kmeans Inércia', fontsize=14, weight='bold')\n",
        "  return inertia\n",
        "\n",
        "inertia = inercia(X,2,10)\n",
        "print(inertia)\n",
        "plt.show() "
      ],
      "execution_count": 83,
      "outputs": [
        {
          "output_type": "stream",
          "name": "stdout",
          "text": [
            "[171.65420282801458, 123.51842886605988, 103.14335133534223, 84.35602618981213, 74.53330591942512, 60.747210664433936, 51.92989584469514, 46.62557939938466, 39.38575229950912]\n"
          ]
        },
        {
          "output_type": "display_data",
          "data": {
            "text/plain": [
              "<Figure size 576x288 with 1 Axes>"
            ],
            "image/png": "[encoded data removed]"
          },
          "metadata": {
            "needs_background": "light"
          }
        }
      ]
    },
    {
      "cell_type": "code",
      "source": [
        "def calculate_wcss(data):\n",
        "    wcss = []\n",
        "    for n in range(2, 11):\n",
        "        kmeans = KMeans(n_clusters=n, random_state= 1234)\n",
        "        kmeans.fit(X=data)\n",
        "        wcss.append(kmeans.inertia_)\n",
        "    \n",
        "    plt.figure(figsize = (8, 4))\n",
        "    plt.plot(np.arange(2 , 11) , wcss , 'ko')\n",
        "    plt.plot(np.arange(2 , 11) , wcss , '-' , alpha = 0.5)\n",
        "    plt.xlabel('Number of Clusters') , plt.ylabel('Inertia')\n",
        "    plt.title('Kmeans Inércia', fontsize=14, weight='bold')\n",
        "    return wcss\n",
        "\n",
        "#dist=calculate_wcss(X)\n",
        "dist=calculate_wcss(X)\n",
        "print(dist)\n",
        "    \n"
      ],
      "metadata": {
        "id": "EciAy9MRNURI",
        "outputId": "c80e9d27-ee65-4240-97ed-ed2e2cb4a785",
        "colab": {
          "base_uri": "https://localhost:8080/",
          "height": 314
        }
      },
      "execution_count": 80,
      "outputs": [
        {
          "output_type": "stream",
          "name": "stdout",
          "text": [
            "[171.65420282801458, 123.51842886605988, 103.14335133534223, 84.35602618981213, 74.53330591942512, 60.747210664433936, 51.92989584469514, 46.62557939938466, 39.38575229950912]\n"
          ]
        },
        {
          "output_type": "display_data",
          "data": {
            "text/plain": [
              "<Figure size 576x288 with 1 Axes>"
            ],
            "image/png": "[encoded data removed]"
          },
          "metadata": {
            "needs_background": "light"
          }
        }
      ]
    },
    {
      "cell_type": "code",
      "source": [
        "def optimal_number_of_clusters(wcss):\n",
        "    x1, y1 = 2, wcss[0]\n",
        "    x2, y2 = 10, wcss[len(wcss)-1]\n",
        "\n",
        "    distances = []\n",
        "    for i in range(len(wcss)):\n",
        "        x0 = i+2\n",
        "        y0 = wcss[i]\n",
        "        numerator = abs((y2-y1)*x0 - (x2-x1)*y0 + x2*y1 - y2*x1)\n",
        "        denominator = np.sqrt((y2 - y1)**2 + (x2 - x1)**2)\n",
        "        distances.append(numerator/denominator)\n",
        "    \n",
        "    return distances.index(max(distances)) + 2\n",
        "\n",
        "optimal_number_of_clusters(inertia)"
      ],
      "metadata": {
        "id": "vKEUmU1SOC0Z",
        "outputId": "58e75d87-320e-492b-9fa9-4cc137798a66",
        "colab": {
          "base_uri": "https://localhost:8080/"
        }
      },
      "execution_count": 84,
      "outputs": [
        {
          "output_type": "execute_result",
          "data": {
            "text/plain": [
              "5"
            ]
          },
          "metadata": {},
          "execution_count": 84
        }
      ]
    },
    {
      "cell_type": "code",
      "metadata": {
        "id": "tL_XAAn-75yV",
        "outputId": "61583329-3f01-4afd-d2c4-27e5bbc90429",
        "colab": {
          "base_uri": "https://localhost:8080/"
        }
      },
      "source": [
        "from sklearn import metrics\n",
        "\n",
        "for n_clusters in range(2,11):\n",
        "  clf = KMeans(n_clusters = n_clusters , random_state= 1234)  \n",
        "  clf.fit(X)\n",
        "  labels = clf.labels_\n",
        "  print('Silhueta média para', n_clusters , 'clusters: ', np.round( metrics.silhouette_score(X, labels, metric='euclidean'),3))"
      ],
      "execution_count": 49,
      "outputs": [
        {
          "output_type": "stream",
          "name": "stdout",
          "text": [
            "Silhueta média para 2 clusters:  0.323\n",
            "Silhueta média para 3 clusters:  0.278\n",
            "Silhueta média para 4 clusters:  0.231\n",
            "Silhueta média para 5 clusters:  0.202\n",
            "Silhueta média para 6 clusters:  0.164\n",
            "Silhueta média para 7 clusters:  0.2\n",
            "Silhueta média para 8 clusters:  0.194\n",
            "Silhueta média para 9 clusters:  0.182\n",
            "Silhueta média para 10 clusters:  0.181\n"
          ]
        }
      ]
    },
    {
      "cell_type": "markdown",
      "metadata": {
        "id": "sCsvMhyq8OR8"
      },
      "source": [
        "(Moodle) **Q2**. Qual ao valor médio de silhueta para o melhor número de clusters na clusterização hierárquica (aglomerativa) para os esquemas de ligação (*linkage*) `ward` (padrão do `scikit-learn`),`complete` e `single`? (verifique de 2 a 10 clusters)\n",
        "\n",
        "> Não empregue outros parâmetros não solicitados. "
      ]
    },
    {
      "cell_type": "code",
      "metadata": {
        "id": "eMaTPiZbUjVW"
      },
      "source": [
        "# seu código"
      ],
      "execution_count": null,
      "outputs": []
    },
    {
      "cell_type": "markdown",
      "metadata": {
        "id": "IseBYJx1aCxl"
      },
      "source": [
        "## Clusterização, 3 Clusters\n",
        "\n",
        "O número de clusters não segue um único critério e normalmente é feita uma análise conjunta de várias métricas. Métodos não supervisionados são analíticos e é esperado que você analise as mátricas e resultados para uma *solução*. \n",
        "\n",
        "(Moodle) **Q3**. Verifique a *distribuição* da quantidade de elementos no modelo que fornece o melhor número de silhueta. Qual é essa distribuição e responda se essa é uma clusterização útil e adequada.\n",
        "\n",
        "> Note, por exemplo a distribuição de 100, 43, 8 para 3 grupos é uma distribuição melhor que 100, 50, 1 e podemos considerar neste último caso que o grupo com 1 elemento é um *outlier*.\n",
        "\n"
      ]
    },
    {
      "cell_type": "code",
      "metadata": {
        "id": "En8ho00M9iq1"
      },
      "source": [
        "# seu código"
      ],
      "execution_count": null,
      "outputs": []
    },
    {
      "cell_type": "code",
      "metadata": {
        "id": "Ek6FbyNW9mwE"
      },
      "source": [
        "# seu código"
      ],
      "execution_count": null,
      "outputs": []
    },
    {
      "cell_type": "markdown",
      "metadata": {
        "id": "o2JAOE04-i2M"
      },
      "source": [
        "## Clusterização `Kmeans`,  $K=3$.\n",
        "\n",
        "Vamos considerar que nossa análise ao final leva ao uso do Kmeans para 3 grupos de dados. De fato essa parece ser a melhor opção embora não tenhamos explorado isso aqui. Verique que a distribuição dos dados é de fato melhor e analise para esse modelo os valores médios dos grupos e os países pertencentes a cada grupo.\n",
        "\n",
        "(Moodle) **Q4**. Há um grupo que se caracteriza por um % médio maior da força de trabalho empregada na agricultura. Qual esse percentual e que países fazem parte dele? \n",
        "\n",
        "(Moodle) **Q5**. Excetuando o grupo o com % médio maior da força de trabalho empregada na agricultura e esse indicador, o que mais se destaca em diferenciar os outros dois grupos?\n",
        "\n",
        "> Empregue `random_state= 1234` no `KMeans`. Não empregue outros parâmetros não solicitados.\n",
        "\n"
      ]
    },
    {
      "cell_type": "code",
      "metadata": {
        "id": "Smgi9ZPaea0q"
      },
      "source": [
        "# seu código"
      ],
      "execution_count": null,
      "outputs": []
    },
    {
      "cell_type": "code",
      "metadata": {
        "id": "B0GCFnpu-Lqc"
      },
      "source": [
        "# seu código"
      ],
      "execution_count": null,
      "outputs": []
    },
    {
      "cell_type": "code",
      "metadata": {
        "id": "NYyTx8dP-OXc"
      },
      "source": [
        "# seu código"
      ],
      "execution_count": null,
      "outputs": []
    }
  ]
}