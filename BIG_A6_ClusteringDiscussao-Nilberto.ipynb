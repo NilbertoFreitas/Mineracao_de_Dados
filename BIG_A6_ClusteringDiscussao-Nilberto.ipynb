{
  "nbformat": 4,
  "nbformat_minor": 0,
  "metadata": {
    "colab": {
      "name": "BIG_A6_ClusteringDiscussao.ipynb",
      "provenance": [],
      "collapsed_sections": [],
      "include_colab_link": true
    },
    "kernelspec": {
      "name": "python3",
      "display_name": "Python 3"
    }
  },
  "cells": [
    {
      "cell_type": "markdown",
      "metadata": {
        "id": "view-in-github",
        "colab_type": "text"
      },
      "source": [
        "<a href=\"https://colab.research.google.com/github/NilbertoFreitas/Mineracao_de_Dados/blob/main/BIG_A6_ClusteringDiscussao-Nilberto.ipynb\" target=\"_parent\"><img src=\"https://colab.research.google.com/assets/colab-badge.svg\" alt=\"Open In Colab\"/></a>"
      ]
    },
    {
      "cell_type": "markdown",
      "metadata": {
        "id": "J3LMBfpeHTwb"
      },
      "source": [
        "<head>\n",
        "  <meta name=\"author\" content=\"Rogério de Oliveira\">\n",
        "  <meta institution=\"author\" content=\"Universidade Presbiteriana Mackenzie\">\n",
        "</head>\n",
        "\n",
        "<img src=\"http://meusite.mackenzie.br/rogerio/mackenzie_logo/UPM.2_horizontal_vermelho.jpg\" width=300, align=\"right\">\n",
        "<!-- <h1 align=left><font size = 6, style=\"color:rgb(200,0,0)\"> optional title </font></h1> -->\n"
      ]
    },
    {
      "cell_type": "markdown",
      "source": [
        "##**Link para o Colab**\n",
        "\n",
        "https://github.com/NilbertoFreitas/Mineracao_de_Dados/blob/main/BIG_A6_ClusteringDiscussao-Nilberto.ipynb"
      ],
      "metadata": {
        "id": "2XuZ9RMqpN9A"
      }
    },
    {
      "cell_type": "markdown",
      "metadata": {
        "id": "zQX8WQPeHTwc"
      },
      "source": [
        "# **Tarefa de Aprofundamento 6** \n",
        "## CASO: Clustering, Segmentando Países pela Força de Trabalho\n",
        "---\n",
        "\n",
        "<br>\n",
        "<br>\n",
        "<br>\n",
        "\n",
        "Com base na atividade *Tarefa de Aprofundamento 5*, **Pesquise e Discuta apenas uma** das perguntas a seguir.\n"
      ]
    },
    {
      "cell_type": "markdown",
      "metadata": {
        "id": "nGZH-j05q8WZ"
      },
      "source": [
        "### 1. Pesquise outros modelos de clusterização e exemplifique uma situação em que um desses modelos pesquisados apresenta resultados melhores que os modelos de clusterização hierárquica e kmédias. \n",
        "\n",
        "<small>\n",
        "Talvez você queira aplicar esse outro modelo aos dados da Tarefa 5 e compartilhar com os colegas. Mas isso é opcional."
      ]
    },
    {
      "cell_type": "markdown",
      "metadata": {
        "id": "Oar--2gn9EJ0"
      },
      "source": [
        "*Sua resposta aqui em 1 (um) parágrafo.*"
      ]
    },
    {
      "cell_type": "markdown",
      "metadata": {
        "id": "p32U1tt_9XBd"
      },
      "source": [
        "### 2. A clusterização é bastante empregada para a agrupamento de documentos como emails, páginas de notícias etc. Pesquise qual a métrica de similaridade (distância) normalmente empregada na clusterização de documentos e explique por quê. "
      ]
    },
    {
      "cell_type": "markdown",
      "metadata": {
        "id": "-tdb6x3s9XBd"
      },
      "source": [
        "*A métrica de Similaridade de cosseno é muito empregada para análise de texto, quando os dados são representados por contagem de palavras. É usualmente empregada como uma aproximação de similaridade entre um par de textos. Esta métrica é uma medida de orientação e não de magnitude, ou seja, a similaridade vai ser influenciada pelo ângulo das palavras em um espaço normalizado, por exemplo, e não pela frequência de vezes que ela aparece*"
      ]
    },
    {
      "cell_type": "markdown",
      "metadata": {
        "id": "xR8J3aMB-TjC"
      },
      "source": [
        "## Referências"
      ]
    },
    {
      "cell_type": "markdown",
      "metadata": {
        "id": "vxyPgZ60-TjC"
      },
      "source": [
        "[1] https://towardsdatascience.com/9-distance-measures-in-data-science-918109d069fa\n",
        "\n",
        "[2] http://www.bcc.ufrpe.br/sites/ww3.bcc.ufrpe.br/files/Lucas%20Dornelles.pdf"
      ]
    }
  ]
}